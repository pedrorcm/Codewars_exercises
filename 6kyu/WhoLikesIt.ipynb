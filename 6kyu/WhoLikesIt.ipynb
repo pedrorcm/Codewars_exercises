{
 "cells": [
  {
   "cell_type": "markdown",
   "metadata": {},
   "source": [
    "You probably know the \"like\" system from Facebook and other pages. People can \"like\" blog posts, pictures or other items. We want to create the text that should be displayed next to such an item.\n",
    "\n",
    "Implement the function which takes an array containing the names of people that like an item. It must return the display text as shown in the examples:\n",
    "\n",
    "[]                                -->  \"no one likes this\"\n",
    "\n",
    "[\"Peter\"]                         -->  \"Peter likes this\"\n",
    "\n",
    "[\"Jacob\", \"Alex\"]                 -->  \"Jacob and Alex like this\"\n",
    "\n",
    "[\"Max\", \"John\", \"Mark\"]           -->  \"Max, John and Mark like this\"\n",
    "\n",
    "[\"Alex\", \"Jacob\", \"Mark\", \"Max\"]  -->  \"Alex, Jacob and 2 others like this\"\n",
    "\n"
   ]
  },
  {
   "cell_type": "code",
   "execution_count": 54,
   "metadata": {},
   "outputs": [],
   "source": [
    "def likes(names):\n",
    "    lname = len(names)\n",
    "\n",
    "    n = [name for name in names]\n",
    "    print (n)\n",
    "  \n",
    "\n",
    "    if lname < 1:\n",
    "      return 'no one likes this'\n",
    "    elif lname < 2:\n",
    "      return ''.join([nome for nome in n]) + ' likes this'\n",
    "    elif lname < 3:\n",
    "      return f'{n[0]} and {n[1]} like this'\n",
    "    elif lname < 4:\n",
    "       return f'{n[0]}, {n[1]} and {n[2]} like this'\n",
    "    else:\n",
    "      return f'{n[0]}, {n[1]} and {len(n[2:])} others like this'\n",
    "\n",
    "\n",
    "\n",
    "    \n",
    "      \n",
    "      "
   ]
  },
  {
   "cell_type": "code",
   "execution_count": 55,
   "metadata": {},
   "outputs": [
    {
     "name": "stdout",
     "output_type": "stream",
     "text": [
      "['Nene Romanova', 'Brian J. Mason', 'Anri', 'Quincy Rosenkreutz', 'Sylia Stingray', 'Priscilla S. Asagiri', 'Leon McNichol']\n"
     ]
    },
    {
     "data": {
      "text/plain": [
       "'Nene Romanova, Brian J. Mason and 5 others like this'"
      ]
     },
     "execution_count": 55,
     "metadata": {},
     "output_type": "execute_result"
    }
   ],
   "source": [
    "likes(['Nene Romanova', 'Brian J. Mason', 'Anri', 'Quincy Rosenkreutz', 'Sylia Stingray', 'Priscilla S. Asagiri', 'Leon McNichol'])"
   ]
  }
 ],
 "metadata": {
  "kernelspec": {
   "display_name": "Python 3.9.6 64-bit",
   "language": "python",
   "name": "python3"
  },
  "language_info": {
   "codemirror_mode": {
    "name": "ipython",
    "version": 3
   },
   "file_extension": ".py",
   "mimetype": "text/x-python",
   "name": "python",
   "nbconvert_exporter": "python",
   "pygments_lexer": "ipython3",
   "version": "3.9.6"
  },
  "orig_nbformat": 4,
  "vscode": {
   "interpreter": {
    "hash": "11938c6bc6919ae2720b4d5011047913343b08a43b18698fd82dedb0d4417594"
   }
  }
 },
 "nbformat": 4,
 "nbformat_minor": 2
}
