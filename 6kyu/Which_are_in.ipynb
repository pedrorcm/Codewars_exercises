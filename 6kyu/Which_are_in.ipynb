{
 "cells": [
  {
   "cell_type": "markdown",
   "metadata": {},
   "source": [
    "Given two arrays of strings a1 and a2 return a sorted array r in lexicographical order of the strings of a1 which are substrings of strings of a2.\n",
    "\n",
    "Example 1:\n",
    "a1 = [\"arp\", \"live\", \"strong\"]\n",
    "\n",
    "a2 = [\"lively\", \"alive\", \"harp\", \"sharp\", \"armstrong\"]\n",
    "\n",
    "returns [\"arp\", \"live\", \"strong\"]\n",
    "\n",
    "Example 2:\n",
    "a1 = [\"tarp\", \"mice\", \"bull\"]\n",
    "\n",
    "a2 = [\"lively\", \"alive\", \"harp\", \"sharp\", \"armstrong\"]\n",
    "\n",
    "returns []\n",
    "\n",
    "Notes:\n",
    "Arrays are written in \"general\" notation. See \"Your Test Cases\" for examples in your language.\n",
    "In Shell bash a1 and a2 are strings. The return is a string where words are separated by commas.\n",
    "Beware: r must be without duplicates.\n"
   ]
  },
  {
   "cell_type": "code",
   "execution_count": 1,
   "metadata": {},
   "outputs": [],
   "source": [
    "import re\n",
    "\n",
    "def in_array(array1, array2):\n",
    "    \n",
    "    r=[]\n",
    "\n",
    "    str_a2 = ' '.join([i for i in array2])\n",
    "\n",
    "    for pad in array1:\n",
    "        if re.search(pad, str_a2) != None:\n",
    "            if pad in r:\n",
    "                pass\n",
    "            else:\n",
    "                r.append(pad)\n",
    "            \n",
    "            \n",
    "    r.sort()\n",
    "    return r\n"
   ]
  },
  {
   "cell_type": "code",
   "execution_count": 2,
   "metadata": {},
   "outputs": [
    {
     "data": {
      "text/plain": [
       "[]"
      ]
     },
     "execution_count": 2,
     "metadata": {},
     "output_type": "execute_result"
    }
   ],
   "source": [
    "a1 = [\"tarp\", \"mice\", \"bull\"]\n",
    "a2 = [\"lively\", \"alive\", \"harp\", \"sharp\", \"armstrong\"]\n",
    "\n",
    "in_array(a1, a2)"
   ]
  },
  {
   "cell_type": "code",
   "execution_count": 3,
   "metadata": {},
   "outputs": [
    {
     "data": {
      "text/plain": [
       "['arp', 'live', 'strong']"
      ]
     },
     "execution_count": 3,
     "metadata": {},
     "output_type": "execute_result"
    }
   ],
   "source": [
    "a1 = [\"arp\", \"live\", \"strong\"]\n",
    "a2 = [\"lively\", \"alive\", \"harp\", \"sharp\", \"armstrong\"]\n",
    "\n",
    "in_array(a1, a2)"
   ]
  }
 ],
 "metadata": {
  "kernelspec": {
   "display_name": "Python 3.9.6 64-bit",
   "language": "python",
   "name": "python3"
  },
  "language_info": {
   "codemirror_mode": {
    "name": "ipython",
    "version": 3
   },
   "file_extension": ".py",
   "mimetype": "text/x-python",
   "name": "python",
   "nbconvert_exporter": "python",
   "pygments_lexer": "ipython3",
   "version": "3.9.6"
  },
  "orig_nbformat": 4,
  "vscode": {
   "interpreter": {
    "hash": "11938c6bc6919ae2720b4d5011047913343b08a43b18698fd82dedb0d4417594"
   }
  }
 },
 "nbformat": 4,
 "nbformat_minor": 2
}
