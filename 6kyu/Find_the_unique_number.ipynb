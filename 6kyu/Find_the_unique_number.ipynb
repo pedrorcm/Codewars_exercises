{
 "cells": [
  {
   "cell_type": "markdown",
   "metadata": {},
   "source": [
    "There is an array with some numbers. All numbers are equal except for one. Try to find it!\n",
    "\n",
    "find_uniq([ 1, 1, 1, 2, 1, 1 ]) == 2\n",
    "find_uniq([ 0, 0, 0.55, 0, 0 ]) == 0.55\n",
    "It’s guaranteed that array contains at least 3 numbers.\n",
    "\n",
    "The tests contain some very huge arrays, so think about performance.\n",
    "\n"
   ]
  },
  {
   "cell_type": "code",
   "execution_count": 1,
   "metadata": {},
   "outputs": [],
   "source": [
    "def find_uniq(arr):\n",
    "    sarr = set(arr)\n",
    "    \n",
    "    for i in sarr:\n",
    "        if arr.count(i)>1:\n",
    "            pass\n",
    "        else:\n",
    "            return i "
   ]
  }
 ],
 "metadata": {
  "kernelspec": {
   "display_name": "Python 3.9.6 64-bit",
   "language": "python",
   "name": "python3"
  },
  "language_info": {
   "codemirror_mode": {
    "name": "ipython",
    "version": 3
   },
   "file_extension": ".py",
   "mimetype": "text/x-python",
   "name": "python",
   "nbconvert_exporter": "python",
   "pygments_lexer": "ipython3",
   "version": "3.9.6"
  },
  "orig_nbformat": 4,
  "vscode": {
   "interpreter": {
    "hash": "11938c6bc6919ae2720b4d5011047913343b08a43b18698fd82dedb0d4417594"
   }
  }
 },
 "nbformat": 4,
 "nbformat_minor": 2
}
