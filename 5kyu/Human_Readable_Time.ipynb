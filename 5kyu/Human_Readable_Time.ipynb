{
 "cells": [
  {
   "cell_type": "markdown",
   "metadata": {},
   "source": [
    "Write a function, which takes a non-negative integer (seconds) as input and returns the time in a human-readable format (HH:MM:SS)\n",
    "\n",
    "HH = hours, padded to 2 digits, range: 00 - 99\n",
    "MM = minutes, padded to 2 digits, range: 00 - 59\n",
    "SS = seconds, padded to 2 digits, range: 00 - 59\n",
    "The maximum time never exceeds 359999 (99:59:59)\n",
    "\n",
    "You can find some examples in the test fixtures."
   ]
  },
  {
   "cell_type": "code",
   "execution_count": 5,
   "metadata": {},
   "outputs": [],
   "source": [
    "def make_readable(seconds):\n",
    "  if seconds > 359999:\n",
    "    print('Insert a valid number')\n",
    "    return None\n",
    "\n",
    "\n",
    "  hr, mins_left = hours(seconds)\n",
    "\n",
    "  mn, seconds_left = minutes(mins_left)\n",
    "\n",
    "  rtrn_times = [hr,mn,seconds_left]\n",
    "  \n",
    "  rtrn_str = returningString(rtrn_times)\n",
    "\n",
    "\n",
    "  return rtrn_str"
   ]
  },
  {
   "cell_type": "code",
   "execution_count": 6,
   "metadata": {},
   "outputs": [],
   "source": [
    "def returningString(tms):\n",
    "  new_tms = []\n",
    "\n",
    "  for a in tms:\n",
    "    if a in range(0,10):\n",
    "      a = f'0{a}'\n",
    "    new_tms.append(a)\n",
    "\n",
    "  return f'{new_tms[0]}:{new_tms[1]}:{new_tms[2]}'\n",
    "     \n",
    "\n",
    "def hours(time):\n",
    "  extract_hour = time/3600\n",
    "  mins_l = time%3600\n",
    "\n",
    "  extract_hour = int(extract_hour)\n",
    "\n",
    "  return extract_hour, mins_l\n",
    "\n",
    "def minutes(time):\n",
    "  extract_minutes = time/60\n",
    "  sec_left = time%60\n",
    "\n",
    "  extract_minutes = int(extract_minutes)\n",
    "\n",
    "  return extract_minutes, sec_left\n"
   ]
  },
  {
   "cell_type": "code",
   "execution_count": 4,
   "metadata": {},
   "outputs": [
    {
     "data": {
      "text/plain": [
       "'02:07:50'"
      ]
     },
     "execution_count": 4,
     "metadata": {},
     "output_type": "execute_result"
    }
   ],
   "source": [
    "make_readable(7670)"
   ]
  }
 ],
 "metadata": {
  "kernelspec": {
   "display_name": "Python 3.9.6 64-bit",
   "language": "python",
   "name": "python3"
  },
  "language_info": {
   "codemirror_mode": {
    "name": "ipython",
    "version": 3
   },
   "file_extension": ".py",
   "mimetype": "text/x-python",
   "name": "python",
   "nbconvert_exporter": "python",
   "pygments_lexer": "ipython3",
   "version": "3.9.6"
  },
  "orig_nbformat": 4,
  "vscode": {
   "interpreter": {
    "hash": "11938c6bc6919ae2720b4d5011047913343b08a43b18698fd82dedb0d4417594"
   }
  }
 },
 "nbformat": 4,
 "nbformat_minor": 2
}
